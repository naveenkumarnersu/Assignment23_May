{
 "cells": [
  {
   "cell_type": "code",
   "execution_count": 1,
   "metadata": {},
   "outputs": [
    {
     "name": "stdout",
     "output_type": "stream",
     "text": [
      "Value of x before calling the function: 5\n",
      "Value of x after calling the function: 10\n"
     ]
    }
   ],
   "source": [
    "'''1. Define a global variable x with value 5. Write a Python function update_x() that tries to modify the global \n",
    "     variable x to 10. Print the value of x before and after calling the function.'''\n",
    "     \n",
    "     \n",
    "x = 5\n",
    "\n",
    "def update_x():\n",
    "    return 10 \n",
    "\n",
    "print(\"Value of x before calling the function:\", x)\n",
    "\n",
    "x = update_x()\n",
    "\n",
    "print(\"Value of x after calling the function:\", x)"
   ]
  },
  {
   "cell_type": "code",
   "execution_count": 2,
   "metadata": {},
   "outputs": [
    {
     "name": "stdout",
     "output_type": "stream",
     "text": [
      "Result for addition :  15\n",
      "Result for multiplication :  50\n"
     ]
    }
   ],
   "source": [
    "'''2 Create a Python module named calculator.py with functions add(a, b) and multiply(a, b). Import this module \n",
    "     into another Python script and use these functions to add and multiply two numbers.'''\n",
    "     \n",
    "import calculator\n",
    "\n",
    "result1 = calculator.add(5,10)\n",
    "\n",
    "result2 = calculator.multiply(5,10)\n",
    "\n",
    "print(\"Result for addition : \",result1)\n",
    "\n",
    "print(\"Result for multiplication : \",result2)"
   ]
  },
  {
   "cell_type": "code",
   "execution_count": 3,
   "metadata": {},
   "outputs": [
    {
     "name": "stdout",
     "output_type": "stream",
     "text": [
      "No.of days in between :  30 days, 0:00:00\n"
     ]
    }
   ],
   "source": [
    "'''3. Write a Python function to find the number of days between two given dates.'''\n",
    "\n",
    "\n",
    "from datetime import date\n",
    "\n",
    "start_date = date(2024, 5, 24)\n",
    "\n",
    "end_date = date(2024, 6, 23)\n",
    "\n",
    "due = end_date - start_date\n",
    "\n",
    "print(\"No.of days in between : \",due)"
   ]
  },
  {
   "cell_type": "code",
   "execution_count": 4,
   "metadata": {},
   "outputs": [
    {
     "name": "stdout",
     "output_type": "stream",
     "text": [
      "Factorial of  4  is  24\n"
     ]
    }
   ],
   "source": [
    "'''4. Write a Python function to calculate the factorial of a given number n.'''\n",
    "\n",
    "n = 4\n",
    "\n",
    "import math\n",
    "\n",
    "fact = math.factorial(n)\n",
    "\n",
    "print(\"Factorial of \",n,\" is \",fact)\n"
   ]
  },
  {
   "cell_type": "code",
   "execution_count": 6,
   "metadata": {},
   "outputs": [
    {
     "name": "stdout",
     "output_type": "stream",
     "text": [
      "{\"brand\": \"poco\", \"model\": \"F5 5G\", \"price\": \"33,999\"}\n",
      "<class 'str'>\n",
      "{'brand': 'poco', 'model': 'F5 5G', 'price': '33,999'}\n",
      "<class 'dict'>\n"
     ]
    }
   ],
   "source": [
    "\n",
    "'''5. Given a JSON string representing a dictionary, write a Python function to convert it into a Python dictionary object.'''\n",
    "\n",
    "import json\n",
    "\n",
    "data = {\n",
    "         \"brand\" : \"poco\",\n",
    "         \"model\" : \"F5 5G\",\n",
    "         \"price\" : \"33,999\"   \n",
    "        }\n",
    "\n",
    "json_data = json.dumps(data)\n",
    "print(json_data)\n",
    "print(type(json_data))\n",
    "\n",
    "\n",
    "dict = json.loads(json_data)\n",
    "print(dict)\n",
    "print(type(dict))\n"
   ]
  },
  {
   "cell_type": "code",
   "execution_count": 7,
   "metadata": {},
   "outputs": [
    {
     "name": "stdout",
     "output_type": "stream",
     "text": [
      "All the emails in the text : \n",
      "naveenkumarnersu@gmail.com\n",
      "naveennersu47@gmail.com\n",
      "naveenkumar.nersu@arnocit.com\n"
     ]
    }
   ],
   "source": [
    "'''6. Write a Python program to extract all email addresses from a given text using regular expressions.'''\n",
    "\n",
    "import re\n",
    "\n",
    "pattern = r'\\b[A-Za-z0-9._%+-]+@[A-Za-z0-9.-]+\\.[A-Z|a-z]{2,}\\b'\n",
    "\n",
    "text =  '''My personal mail id - naveenkumarnersu@gmail.com, my another mail id - naveennersu47@gmail.com and my mail id at \n",
    "           at work - naveenkumar.nersu@arnocit.com'''\n",
    "\n",
    "extracted_emails = re.findall(pattern, text)\n",
    "\n",
    "print(\"All the emails in the text : \")\n",
    "\n",
    "for all_emails in extracted_emails :\n",
    "    print(all_emails)"
   ]
  },
  {
   "cell_type": "code",
   "execution_count": 8,
   "metadata": {},
   "outputs": [
    {
     "name": "stdout",
     "output_type": "stream",
     "text": [
      "Global variable :  10\n",
      "Local variable :  20\n"
     ]
    }
   ],
   "source": [
    "'''7. Explain the difference between local and global variables in Python with an example.'''\n",
    "\n",
    "'''Global Variable : 1. Global variables are those that are declared outside any function or method.\n",
    "                     2. They can be accessed or called anywhere in the program.\n",
    "                     3. Global variables are still active if or if not used in the program.'''\n",
    "                     \n",
    "'''Local Variable  : 1. Local variables are those that are declared inside any function or method.\n",
    "                     2. They can be accessed or called only in that particular function or method of a program.\n",
    "                     3. We get error if we try to access a local variable outside any function.'''\n",
    "\n",
    "'''1. In the example below, x is a global variable declared outside the function and y is a local variable declared \n",
    "      inside the function.\n",
    "   2. We are able to call the global variable i.e. x inside a function.\n",
    "   3. But we cannot access the local variable i.e. y outside the function.'''\n",
    "\n",
    "x = 10\n",
    "\n",
    "def calculator() :\n",
    "    \n",
    "    global x\n",
    "    \n",
    "    y = x*2\n",
    "    \n",
    "    print(\"Local variable : \",y)\n",
    "    \n",
    "print(\"Global variable : \",x)\n",
    "\n",
    "calculator()\n",
    "\n",
    "#print(\"Local variable outside function: \",y) trying to print local variable outside function - gives error\n",
    "\n"
   ]
  },
  {
   "cell_type": "code",
   "execution_count": 9,
   "metadata": {},
   "outputs": [
    {
     "name": "stdout",
     "output_type": "stream",
     "text": [
      "Result for addition :  15\n"
     ]
    }
   ],
   "source": [
    "'''8. What is a Python module? Give an example of how to import and use a module.'''\n",
    "\n",
    "'''Module : 1. A module in python is the collection of functions and methods that is saved with .py extension.\n",
    "            2. Modules once created can be used many times in different programs by just importing that particular module.\n",
    "            3. This is so followed to reduce the code length and to avoid any unnecessary confusion.'''\n",
    "            \n",
    "'''Importing a module is as easy as just writing import followed by the module name.'''\n",
    "\n",
    "'''1. From the above example, I imported the module calculator which is saved in another file with .py extension.\n",
    "   2. I called add() from the calculator module which adds the given two arguments'''\n",
    "\n",
    "import calculator\n",
    "\n",
    "result1 = calculator.add(5,10)\n",
    "\n",
    "\n",
    "print(\"Result for addition : \",result1)\n",
    "\n"
   ]
  },
  {
   "cell_type": "code",
   "execution_count": 10,
   "metadata": {},
   "outputs": [
    {
     "name": "stdout",
     "output_type": "stream",
     "text": [
      "Today's date and current time :  2024-05-27 10:05:08.420027\n"
     ]
    }
   ],
   "source": [
    "'''9. Write a Python function to get the current date and time.'''\n",
    "\n",
    "import datetime\n",
    "\n",
    "current_date_time = datetime.datetime.now()\n",
    "\n",
    "print(\"Today's date and current time : \",current_date_time)\n"
   ]
  },
  {
   "cell_type": "code",
   "execution_count": 13,
   "metadata": {},
   "outputs": [
    {
     "name": "stdout",
     "output_type": "stream",
     "text": [
      "GCD of 12 and 18 is: 6\n"
     ]
    }
   ],
   "source": [
    "\n",
    "'''10. Write a Python function to calculate the greatest common divisor (GCD) of two numbers.'''\n",
    "\n",
    "import math\n",
    "\n",
    "x = 12\n",
    "y = 18\n",
    "\n",
    "result = math.gcd(x, y)\n",
    "print(\"GCD of\", x, \"and\", y, \"is:\", result)"
   ]
  }
 ],
 "metadata": {
  "kernelspec": {
   "display_name": "Python 3",
   "language": "python",
   "name": "python3"
  },
  "language_info": {
   "codemirror_mode": {
    "name": "ipython",
    "version": 3
   },
   "file_extension": ".py",
   "mimetype": "text/x-python",
   "name": "python",
   "nbconvert_exporter": "python",
   "pygments_lexer": "ipython3",
   "version": "3.12.3"
  }
 },
 "nbformat": 4,
 "nbformat_minor": 2
}
